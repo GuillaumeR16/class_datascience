{
 "cells": [
  {
   "cell_type": "code",
   "execution_count": 1,
   "id": "14766652",
   "metadata": {},
   "outputs": [],
   "source": [
    "# PACKAGES\n",
    "%matplotlib inline\n",
    "import numpy as np\n",
    "import scipy.stats as stats\n",
    "import matplotlib.pyplot as plt\n",
    "import seaborn as sns\n",
    "import random as rd\n",
    "import statistics as st\n",
    "import pandas as pd\n",
    "\n",
    "# SEABORN THEME\n",
    "scale = 0.4\n",
    "W = 16*scale\n",
    "H = 9*scale\n",
    "sns.set(rc = {'figure.figsize':(W,H)})\n",
    "sns.set_style(\"white\")"
   ]
  },
  {
   "cell_type": "markdown",
   "id": "36636897",
   "metadata": {},
   "source": [
    "- At the end of last class we tested \n",
    "<br><br>\n",
    "$$H_0:\\mu=67.5$$\n",
    "<br>\n",
    "$$H_1:\\mu \\neq 67.5$$\n",
    "<br>\n",
    "    with (i) known $\\sigma$ 9.5, (ii) unknown $\\sigma$. We have used test statistics and p values to reject H0 with confidence level 95%. \n",
    "- Exercises:\n",
    "    1. Test \n",
    "<br><br>\n",
    "$$H_0:\\mu=0$$\n",
    "<br>\n",
    "$$H_1:\\mu \\neq 0$$\n",
    "<br>\n",
    "        by computing test statistics and p values manually (as done in class) and for (ii) check that test statistic and p value are the same ones of the ones obtained with scipy.stats.ttest_1samp(a = grades, popmean = mu_null).\n",
    "    2. Do the same test by computing the confidence interval (instead of test statistics and p values) manually and for (ii) check the confidence interval is the same of the one obtained with scipy.stats.t.interval(confidence_level, degrees_freedom, sample_mean, sample_standard_error)."
   ]
  },
  {
   "cell_type": "markdown",
   "id": "575c5cbf",
   "metadata": {},
   "source": [
    "- Solution 1:"
   ]
  },
  {
   "cell_type": "code",
   "execution_count": 2,
   "id": "f57ff0da",
   "metadata": {},
   "outputs": [
    {
     "data": {
      "text/plain": [
       "(34.03530837331259, 0.0)"
      ]
     },
     "execution_count": 2,
     "metadata": {},
     "output_type": "execute_result"
    }
   ],
   "source": [
    "# get data\n",
    "df = pd.read_csv(\"https://raw.githubusercontent.com/ethanweed/pythonbook/main/Data/zeppo.csv\")\n",
    "df.head()\n",
    "grades = df['grades']\n",
    "\n",
    "# set params\n",
    "sd_true = 9.5\n",
    "mu_null = 0\n",
    "N = len(grades)\n",
    "\n",
    "# get sample mean and sem_true\n",
    "sample_mean = st.mean(grades)\n",
    "sem_1 = sd_true / np.sqrt(N)\n",
    "\n",
    "# get z score\n",
    "z_score_1 = (sample_mean - mu_null) / sem_1\n",
    "\n",
    "# get p value\n",
    "lower_area_1 = st.NormalDist().cdf(-z_score_1)\n",
    "upper_area_1 = lower_area_1\n",
    "p_value_1 = lower_area_1 + upper_area_1\n",
    "\n",
    "# display results\n",
    "(z_score_1, p_value_1)"
   ]
  },
  {
   "cell_type": "code",
   "execution_count": 3,
   "id": "4a3ee315",
   "metadata": {},
   "outputs": [
    {
     "data": {
      "text/plain": [
       "(33.96161255929189, 1.7866093693224965e-18)"
      ]
     },
     "execution_count": 3,
     "metadata": {},
     "output_type": "execute_result"
    }
   ],
   "source": [
    "# set params\n",
    "degrees_freedom = N-1\n",
    "\n",
    "# get sample mean, sample variance and sem\n",
    "deviations = (grades - sample_mean)\n",
    "deviations2 = np.square(deviations)\n",
    "S2 = np.sum(deviations2)/degrees_freedom\n",
    "S = np.sqrt(S2)\n",
    "sem_2 = S / np.sqrt(N)\n",
    "\n",
    "# get z score\n",
    "z_score_2 = (sample_mean - mu_null) / sem_2\n",
    "\n",
    "# get p value\n",
    "lower_area_2 = stats.t.cdf(-z_score_2, df = degrees_freedom)\n",
    "upper_area_2 = lower_area_2\n",
    "p_value_2 = lower_area_2 + upper_area_2\n",
    "\n",
    "# display results\n",
    "(z_score_2, p_value_2)"
   ]
  },
  {
   "cell_type": "code",
   "execution_count": 4,
   "id": "1e2c3e65",
   "metadata": {},
   "outputs": [
    {
     "name": "stdout",
     "output_type": "stream",
     "text": [
      "33.96161255929189 1.7866093693224965e-18\n"
     ]
    },
    {
     "data": {
      "text/plain": [
       "(True, True)"
      ]
     },
     "execution_count": 4,
     "metadata": {},
     "output_type": "execute_result"
    }
   ],
   "source": [
    "# compare to ttest_1samp\n",
    "z_score_2_autom, p_value_2_autom = stats.ttest_1samp(a = grades, popmean = mu_null)\n",
    "print(z_score_2_autom, p_value_2_autom)\n",
    "z_score_2 == z_score_2_autom, p_value_2 == p_value_2_autom"
   ]
  },
  {
   "cell_type": "markdown",
   "id": "afe43991",
   "metadata": {},
   "source": [
    "- Solution 2:\n",
    "    - Under $H_0$ with $\\mu_0=0$ and known variance:\n",
    "    <br>\n",
    "    $$\\overline{X} - (1.96 \\times SEM) \\leq \\mu_0 \\leq \\overline{X} + (1.96 \\times SEM)$$\n",
    "    <br>\n",
    "    $$\\Rightarrow \\overline{X} - (1.96 \\times SEM) \\leq 0 \\leq \\overline{X} + (1.96 \\times SEM)$$\n",
    "    <br>"
   ]
  },
  {
   "cell_type": "code",
   "execution_count": 5,
   "id": "6920661d",
   "metadata": {},
   "outputs": [
    {
     "data": {
      "text/plain": [
       "(68.13644142589538, 76.46355857410461)"
      ]
     },
     "execution_count": 5,
     "metadata": {},
     "output_type": "execute_result"
    }
   ],
   "source": [
    "a = 1.96\n",
    "ci_1 = (sample_mean-(a*sem_1), sample_mean+(a*sem_1))\n",
    "ci_1"
   ]
  },
  {
   "cell_type": "markdown",
   "id": "25ef45ed",
   "metadata": {},
   "source": [
    "- Under $H_0$ with $\\mu_0=0$ and unknown variance.\n",
    "We need to get the critical values for the areas with cumulative probability $0.025$ and $0.975$. We can do it  for just one of the 2, say $0.975$, as the distribution is symmetric:"
   ]
  },
  {
   "cell_type": "code",
   "execution_count": 6,
   "id": "8e6ef737",
   "metadata": {},
   "outputs": [
    {
     "data": {
      "text/plain": [
       "2.093024054408263"
      ]
     },
     "execution_count": 6,
     "metadata": {},
     "output_type": "execute_result"
    }
   ],
   "source": [
    "stats.t.ppf(0.975, degrees_freedom)"
   ]
  },
  {
   "cell_type": "markdown",
   "id": "c00cd9bc",
   "metadata": {},
   "source": [
    "- Under $H_0$ with $\\mu_0=0$, unknown variance and 19 degrees of freedom:\n",
    "    <br>\n",
    "    $$\\overline{X} - (2.09 \\times SEM) \\leq \\mu_0 \\leq \\overline{X} + (2.09 \\times SEM)$$\n",
    "    <br>\n",
    "    $$\\Rightarrow \\overline{X} - (2.09 \\times SEM) \\leq 0 \\leq \\overline{X} + (2.09 \\times SEM)$$\n",
    "    <br>"
   ]
  },
  {
   "cell_type": "code",
   "execution_count": 7,
   "id": "998b7868",
   "metadata": {},
   "outputs": [
    {
     "data": {
      "text/plain": [
       "(67.84421513791415, 76.75578486208585)"
      ]
     },
     "execution_count": 7,
     "metadata": {},
     "output_type": "execute_result"
    }
   ],
   "source": [
    "alpha = 0.05\n",
    "alpha_inv = (1.0-alpha)\n",
    "q1 = (1+alpha_inv)/2\n",
    "a = stats.t.ppf(q1, degrees_freedom)\n",
    "ci_2 = (sample_mean-(a*sem_2), sample_mean+(a*sem_2))\n",
    "ci_2"
   ]
  },
  {
   "cell_type": "code",
   "execution_count": 8,
   "id": "140e7a78",
   "metadata": {},
   "outputs": [
    {
     "name": "stdout",
     "output_type": "stream",
     "text": [
      "(67.84421513791415, 76.75578486208585)\n"
     ]
    },
    {
     "data": {
      "text/plain": [
       "True"
      ]
     },
     "execution_count": 8,
     "metadata": {},
     "output_type": "execute_result"
    }
   ],
   "source": [
    "ci_2_autom = stats.t.interval(alpha_inv, degrees_freedom, sample_mean, sem_2)\n",
    "print(ci_2_autom)\n",
    "ci_2 == ci_2_autom"
   ]
  },
  {
   "cell_type": "code",
   "execution_count": 9,
   "id": "72dfbf47",
   "metadata": {},
   "outputs": [
    {
     "name": "stdout",
     "output_type": "stream",
     "text": [
      "Help on method interval in module scipy.stats._distn_infrastructure:\n",
      "\n",
      "interval(alpha, *args, **kwds) method of scipy.stats._continuous_distns.t_gen instance\n",
      "    Confidence interval with equal areas around the median.\n",
      "    \n",
      "    Parameters\n",
      "    ----------\n",
      "    alpha : array_like of float\n",
      "        Probability that an rv will be drawn from the returned range.\n",
      "        Each value should be in the range [0, 1].\n",
      "    arg1, arg2, ... : array_like\n",
      "        The shape parameter(s) for the distribution (see docstring of the\n",
      "        instance object for more information).\n",
      "    loc : array_like, optional\n",
      "        location parameter, Default is 0.\n",
      "    scale : array_like, optional\n",
      "        scale parameter, Default is 1.\n",
      "    \n",
      "    Returns\n",
      "    -------\n",
      "    a, b : ndarray of float\n",
      "        end-points of range that contain ``100 * alpha %`` of the rv's\n",
      "        possible values.\n",
      "\n"
     ]
    }
   ],
   "source": [
    "help(stats.t.interval)"
   ]
  },
  {
   "cell_type": "code",
   "execution_count": 10,
   "id": "4654e5cb",
   "metadata": {},
   "outputs": [],
   "source": [
    "?? stats._continuous_distns.t_gen.interval"
   ]
  },
  {
   "cell_type": "code",
   "execution_count": null,
   "id": "6e3e86df",
   "metadata": {},
   "outputs": [],
   "source": []
  }
 ],
 "metadata": {
  "kernelspec": {
   "display_name": "Python 3 (ipykernel)",
   "language": "python",
   "name": "python3"
  },
  "language_info": {
   "codemirror_mode": {
    "name": "ipython",
    "version": 3
   },
   "file_extension": ".py",
   "mimetype": "text/x-python",
   "name": "python",
   "nbconvert_exporter": "python",
   "pygments_lexer": "ipython3",
   "version": "3.9.13"
  }
 },
 "nbformat": 4,
 "nbformat_minor": 5
}
