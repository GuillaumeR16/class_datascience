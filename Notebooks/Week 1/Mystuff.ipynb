{
 "cells": [
  {
   "cell_type": "code",
   "execution_count": 5,
   "id": "90112f3c-72e6-447d-8bdb-938a5c9a60d4",
   "metadata": {},
   "outputs": [
    {
     "name": "stdout",
     "output_type": "stream",
     "text": [
      "hello, world.\n"
     ]
    }
   ],
   "source": [
    "# Say hello to the world.\n",
    "print('hello, world.')"
   ]
  },
  {
   "cell_type": "code",
   "execution_count": 6,
   "id": "37e4fa34-8c9a-4c82-97a4-43d20e15ce87",
   "metadata": {},
   "outputs": [
    {
     "data": {
      "text/plain": [
       "11"
      ]
     },
     "execution_count": 6,
     "metadata": {},
     "output_type": "execute_result"
    }
   ],
   "source": [
    " # Would show 9 if this were the last line, but it is not, so shows nothing\n",
    "4+5\n",
    "# I hope we see 11.\n",
    "5+6"
   ]
  },
  {
   "cell_type": "code",
   "execution_count": 7,
   "id": "0f04515d-8301-452e-8114-fcb0d6cbb556",
   "metadata": {},
   "outputs": [],
   "source": [
    " # Variable assignment, so no visible output.\n",
    "a=5+6"
   ]
  },
  {
   "cell_type": "code",
   "execution_count": 8,
   "id": "43e74bee-d6d2-42fa-bb05-7a595d277e5d",
   "metadata": {},
   "outputs": [
    {
     "data": {
      "text/plain": [
       "11"
      ]
     },
     "execution_count": 8,
     "metadata": {},
     "output_type": "execute_result"
    }
   ],
   "source": [
    "a"
   ]
  },
  {
   "cell_type": "code",
   "execution_count": null,
   "id": "7f60ed6c-8868-45a0-90ec-5c3af3ef5111",
   "metadata": {},
   "outputs": [],
   "source": []
  }
 ],
 "metadata": {
  "kernelspec": {
   "display_name": "Python 3 (ipykernel)",
   "language": "python",
   "name": "python3"
  },
  "language_info": {
   "codemirror_mode": {
    "name": "ipython",
    "version": 3
   },
   "file_extension": ".py",
   "mimetype": "text/x-python",
   "name": "python",
   "nbconvert_exporter": "python",
   "pygments_lexer": "ipython3",
   "version": "3.9.13"
  }
 },
 "nbformat": 4,
 "nbformat_minor": 5
}
